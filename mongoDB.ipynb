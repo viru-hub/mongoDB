{
 "cells": [
  {
   "cell_type": "code",
   "execution_count": 2,
   "metadata": {},
   "outputs": [
    {
     "name": "stdout",
     "output_type": "stream",
     "text": [
      "Collecting pymongoNote: you may need to restart the kernel to use updated packages.\n",
      "  Downloading pymongo-3.11.4-cp38-cp38-win_amd64.whl (383 kB)\n",
      "Installing collected packages: pymongo\n",
      "Successfully installed pymongo-3.11.4\n",
      "\n"
     ]
    },
    {
     "name": "stderr",
     "output_type": "stream",
     "text": [
      "WARNING: Value for scheme.headers does not match. Please report this to <https://github.com/pypa/pip/issues/9617>\n",
      "distutils: c:\\users\\personal\\appdata\\local\\programs\\python\\python38\\Include\\UNKNOWN\n",
      "sysconfig: c:\\users\\personal\\appdata\\local\\programs\\python\\python38\\Include\n",
      "WARNING: Additional context:\n",
      "user = False\n",
      "home = None\n",
      "root = None\n",
      "prefix = None\n",
      "WARNING: Value for scheme.headers does not match. Please report this to <https://github.com/pypa/pip/issues/9617>\n",
      "distutils: c:\\users\\personal\\appdata\\local\\programs\\python\\python38\\Include\\UNKNOWN\n",
      "sysconfig: c:\\users\\personal\\appdata\\local\\programs\\python\\python38\\Include\n",
      "WARNING: Additional context:\n",
      "user = False\n",
      "home = None\n",
      "root = None\n",
      "prefix = None\n",
      "WARNING: You are using pip version 21.1; however, version 21.1.3 is available.\n",
      "You should consider upgrading via the 'c:\\users\\personal\\appdata\\local\\programs\\python\\python38\\python.exe -m pip install --upgrade pip' command.\n"
     ]
    }
   ],
   "source": [
    "pip install pymongo"
   ]
  },
  {
   "cell_type": "code",
   "execution_count": 1,
   "metadata": {},
   "outputs": [],
   "source": [
    "import pymongo"
   ]
  },
  {
   "cell_type": "code",
   "execution_count": 2,
   "metadata": {},
   "outputs": [],
   "source": [
    "client = pymongo.MongoClient('mongodb://127.0.0.1:27017')"
   ]
  },
  {
   "cell_type": "code",
   "execution_count": 3,
   "metadata": {},
   "outputs": [],
   "source": [
    "mydb = client['Employee']"
   ]
  },
  {
   "cell_type": "code",
   "execution_count": 4,
   "metadata": {},
   "outputs": [],
   "source": [
    "information = mydb.employee_information"
   ]
  },
  {
   "cell_type": "code",
   "execution_count": 5,
   "metadata": {},
   "outputs": [],
   "source": [
    "record = {'name':'python',\n",
    "         'age':'10',\n",
    "         'category':'programing_language'}\n"
   ]
  },
  {
   "cell_type": "code",
   "execution_count": 35,
   "metadata": {},
   "outputs": [
    {
     "data": {
      "text/plain": [
       "<pymongo.results.InsertOneResult at 0x3373fddb80>"
      ]
     },
     "execution_count": 35,
     "metadata": {},
     "output_type": "execute_result"
    }
   ],
   "source": [
    "information.insert_one(record)"
   ]
  },
  {
   "cell_type": "code",
   "execution_count": 36,
   "metadata": {},
   "outputs": [],
   "source": [
    "records = [{'name':\"bank\",\n",
    "           \"age\":\"5\",\n",
    "           \"ctg\":\"finance\"},\n",
    "          {\"name\":\"HDFC\",\n",
    "          \"age\":\"6\",\n",
    "          \"ctg\":\"housing\"}]"
   ]
  },
  {
   "cell_type": "code",
   "execution_count": 37,
   "metadata": {},
   "outputs": [
    {
     "data": {
      "text/plain": [
       "<pymongo.results.InsertManyResult at 0x3372ade780>"
      ]
     },
     "execution_count": 37,
     "metadata": {},
     "output_type": "execute_result"
    }
   ],
   "source": [
    "information.insert_many(records)"
   ]
  },
  {
   "cell_type": "code",
   "execution_count": 38,
   "metadata": {},
   "outputs": [
    {
     "data": {
      "text/plain": [
       "{'_id': ObjectId('60e480e749433bc42197f95d'),\n",
       " 'name': 'python',\n",
       " 'age': '10',\n",
       " 'category': 'programing_language'}"
      ]
     },
     "execution_count": 38,
     "metadata": {},
     "output_type": "execute_result"
    }
   ],
   "source": [
    "information.find_one()"
   ]
  },
  {
   "cell_type": "code",
   "execution_count": 39,
   "metadata": {},
   "outputs": [
    {
     "data": {
      "text/plain": [
       "<pymongo.cursor.Cursor at 0x3373fbeac0>"
      ]
     },
     "execution_count": 39,
     "metadata": {},
     "output_type": "execute_result"
    }
   ],
   "source": [
    "information.find()"
   ]
  },
  {
   "cell_type": "code",
   "execution_count": 9,
   "metadata": {},
   "outputs": [
    {
     "name": "stdout",
     "output_type": "stream",
     "text": [
      "{'_id': ObjectId('60e480e749433bc42197f95d'), 'name': 'python', 'age': '8', 'category': 'programing_language', 'lastmodified': datetime.datetime(2021, 7, 7, 6, 15, 56, 538000)}\n",
      "{'_id': ObjectId('60e528cc78457058ab0332ff'), 'name': 'python', 'age': '10', 'category': 'programing_language'}\n",
      "{'_id': ObjectId('60e5299778457058ab033300'), 'name': 'bank', 'age': '5', 'ctg': 'finance'}\n",
      "{'_id': ObjectId('60e5299778457058ab033301'), 'name': 'HDFC', 'age': '6', 'ctg': 'housing'}\n",
      "{'_id': ObjectId('60e545f178457058ab033303'), 'name': 'python', 'age': '10', 'category': 'programing_language'}\n",
      "{'_id': ObjectId('60e545f278457058ab033304'), 'name': 'bank', 'age': '5', 'ctg': 'finance'}\n",
      "{'_id': ObjectId('60e545f278457058ab033305'), 'name': 'HDFC', 'age': '6', 'ctg': 'housing'}\n"
     ]
    }
   ],
   "source": [
    "for data in information.find({}):\n",
    "    print(data)"
   ]
  },
  {
   "cell_type": "code",
   "execution_count": 41,
   "metadata": {},
   "outputs": [
    {
     "name": "stdout",
     "output_type": "stream",
     "text": [
      "{'_id': ObjectId('60e480e749433bc42197f95d'), 'name': 'python', 'age': '10', 'category': 'programing_language'}\n",
      "{'_id': ObjectId('60e528cc78457058ab0332ff'), 'name': 'python', 'age': '10', 'category': 'programing_language'}\n",
      "{'_id': ObjectId('60e545f178457058ab033303'), 'name': 'python', 'age': '10', 'category': 'programing_language'}\n"
     ]
    }
   ],
   "source": [
    "for data in information.find({'name':'python'}):\n",
    "    print(data)"
   ]
  },
  {
   "cell_type": "code",
   "execution_count": 42,
   "metadata": {},
   "outputs": [
    {
     "name": "stdout",
     "output_type": "stream",
     "text": [
      "{'_id': ObjectId('60e5299778457058ab033300'), 'name': 'bank', 'age': '5', 'ctg': 'finance'}\n",
      "{'_id': ObjectId('60e5299778457058ab033301'), 'name': 'HDFC', 'age': '6', 'ctg': 'housing'}\n",
      "{'_id': ObjectId('60e545f278457058ab033304'), 'name': 'bank', 'age': '5', 'ctg': 'finance'}\n",
      "{'_id': ObjectId('60e545f278457058ab033305'), 'name': 'HDFC', 'age': '6', 'ctg': 'housing'}\n"
     ]
    }
   ],
   "source": [
    "for data in information.find({'ctg':{'$in':['finance','housing']}}):\n",
    "    print(data)"
   ]
  },
  {
   "cell_type": "code",
   "execution_count": 43,
   "metadata": {},
   "outputs": [],
   "source": [
    "for data in information.find({'name':'bank','age':5}):\n",
    "    print(data)"
   ]
  },
  {
   "cell_type": "code",
   "execution_count": 44,
   "metadata": {},
   "outputs": [
    {
     "name": "stdout",
     "output_type": "stream",
     "text": [
      "{'_id': ObjectId('60e5299778457058ab033300'), 'name': 'bank', 'age': '5', 'ctg': 'finance'}\n",
      "{'_id': ObjectId('60e5299778457058ab033301'), 'name': 'HDFC', 'age': '6', 'ctg': 'housing'}\n",
      "{'_id': ObjectId('60e545f278457058ab033304'), 'name': 'bank', 'age': '5', 'ctg': 'finance'}\n",
      "{'_id': ObjectId('60e545f278457058ab033305'), 'name': 'HDFC', 'age': '6', 'ctg': 'housing'}\n"
     ]
    }
   ],
   "source": [
    "for gg in information.find({'$or':[{'name':'HDFC'},{'ctg':'finance'}]}):\n",
    "    print(gg)"
   ]
  },
  {
   "cell_type": "code",
   "execution_count": 45,
   "metadata": {},
   "outputs": [
    {
     "name": "stdout",
     "output_type": "stream",
     "text": [
      "{'_id': ObjectId('60e5299778457058ab033301'), 'name': 'HDFC', 'age': '6', 'ctg': 'housing'}\n",
      "{'_id': ObjectId('60e545f278457058ab033305'), 'name': 'HDFC', 'age': '6', 'ctg': 'housing'}\n"
     ]
    }
   ],
   "source": [
    "for gg in information.find({'$and':[{'name':'HDFC'},{'ctg':'housing'}]}):\n",
    "    print(gg)"
   ]
  },
  {
   "cell_type": "code",
   "execution_count": 49,
   "metadata": {},
   "outputs": [
    {
     "data": {
      "text/plain": [
       "<pymongo.results.UpdateResult at 0x3373fc1040>"
      ]
     },
     "execution_count": 49,
     "metadata": {},
     "output_type": "execute_result"
    }
   ],
   "source": [
    "information.update_one({'name':'python'},{'$set':{'age':'8'},\"$currentDate\":{'lastmodified':True}})"
   ]
  },
  {
   "cell_type": "code",
   "execution_count": 52,
   "metadata": {},
   "outputs": [
    {
     "data": {
      "text/plain": [
       "<pymongo.results.UpdateResult at 0x3373e60800>"
      ]
     },
     "execution_count": 52,
     "metadata": {},
     "output_type": "execute_result"
    }
   ],
   "source": [
    "information.update_many({'age':{'$lt':8}},{'$currentDate':{'lastmodified':True}})"
   ]
  },
  {
   "cell_type": "code",
   "execution_count": 53,
   "metadata": {},
   "outputs": [],
   "source": [
    "mydatabase = client['student']"
   ]
  },
  {
   "cell_type": "code",
   "execution_count": 54,
   "metadata": {},
   "outputs": [],
   "source": [
    "collection = mydatabase['studentscores']"
   ]
  },
  {
   "cell_type": "code",
   "execution_count": 55,
   "metadata": {},
   "outputs": [],
   "source": [
    "data=[{\"user\":\"krish\",\"subject\":\"english\",\"score\":85},\n",
    "     {\"user\":\"naik\",\"subject\":\"english\",\"score\":83},\n",
    "     {\"user\":\"krish\",\"subject\":\"cs\",\"score\":75},\n",
    "     {\"user\":\"naik\",\"subject\":\"cs\",\"score\":80}]"
   ]
  },
  {
   "cell_type": "code",
   "execution_count": 56,
   "metadata": {},
   "outputs": [
    {
     "data": {
      "text/plain": [
       "<pymongo.results.InsertManyResult at 0x33738737c0>"
      ]
     },
     "execution_count": 56,
     "metadata": {},
     "output_type": "execute_result"
    }
   ],
   "source": [
    "collection.insert_many(data)"
   ]
  },
  {
   "cell_type": "code",
   "execution_count": 57,
   "metadata": {},
   "outputs": [],
   "source": [
    "agg = collection.aggregate([{\"$group\":{'_id':'$user','total':{'$sum':1}}}])"
   ]
  },
  {
   "cell_type": "code",
   "execution_count": 58,
   "metadata": {},
   "outputs": [
    {
     "name": "stdout",
     "output_type": "stream",
     "text": [
      "{'_id': 'krish', 'total': 2}\n",
      "{'_id': 'naik', 'total': 2}\n"
     ]
    }
   ],
   "source": [
    "for i in agg:\n",
    "    print(i)"
   ]
  },
  {
   "cell_type": "code",
   "execution_count": 63,
   "metadata": {},
   "outputs": [],
   "source": [
    "agg = collection.aggregate([{\"$group\":{\"_id\":'$user','marks':{'$sum':'$score'}}}])"
   ]
  },
  {
   "cell_type": "code",
   "execution_count": 64,
   "metadata": {},
   "outputs": [
    {
     "name": "stdout",
     "output_type": "stream",
     "text": [
      "{'_id': 'krish', 'marks': 160}\n",
      "{'_id': 'naik', 'marks': 163}\n"
     ]
    }
   ],
   "source": [
    "for i in agg:\n",
    "    print(i)"
   ]
  },
  {
   "cell_type": "code",
   "execution_count": 65,
   "metadata": {},
   "outputs": [],
   "source": [
    "agg = collection.aggregate([{\"$group\":{\"_id\":'$user','marks':{'$avg':'$score'}}}])"
   ]
  },
  {
   "cell_type": "code",
   "execution_count": 66,
   "metadata": {},
   "outputs": [
    {
     "name": "stdout",
     "output_type": "stream",
     "text": [
      "{'_id': 'krish', 'marks': 80.0}\n",
      "{'_id': 'naik', 'marks': 81.5}\n"
     ]
    }
   ],
   "source": [
    "for value in agg:\n",
    "    print(value)"
   ]
  },
  {
   "cell_type": "code",
   "execution_count": null,
   "metadata": {},
   "outputs": [],
   "source": []
  }
 ],
 "metadata": {
  "kernelspec": {
   "display_name": "Python 3",
   "language": "python",
   "name": "python3"
  },
  "language_info": {
   "codemirror_mode": {
    "name": "ipython",
    "version": 3
   },
   "file_extension": ".py",
   "mimetype": "text/x-python",
   "name": "python",
   "nbconvert_exporter": "python",
   "pygments_lexer": "ipython3",
   "version": "3.8.3"
  }
 },
 "nbformat": 4,
 "nbformat_minor": 4
}
